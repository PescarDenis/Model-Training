{
 "cells": [
  {
   "cell_type": "code",
   "execution_count": 1,
   "id": "cb0b6ef6",
   "metadata": {},
   "outputs": [],
   "source": [
    "import pandas as pd\n",
    "import numpy as np\n",
    "\n",
    "# data science library\n",
    "from sklearn.tree import DecisionTreeClassifier\n",
    "from sklearn.preprocessing import LabelEncoder\n",
    "from sklearn.model_selection import train_test_split\n",
    "from sklearn import metrics\n",
    "\n",
    "#tree vizualization\n",
    "from sklearn.tree import export_graphviz\n",
    "from IPython.display import Image\n",
    "\n",
    "#plotting libraries\n",
    "import matplotlib.pyplot as plt\n",
    "import seaborn as sns\n",
    "\n",
    "from sklearn.preprocessing import OrdinalEncoder"
   ]
  },
  {
   "cell_type": "code",
   "execution_count": 2,
   "id": "78ddd07f",
   "metadata": {},
   "outputs": [],
   "source": [
    "import pyarrow.feather as pf\n",
    "import sklearn\n",
    "arrtab = pf.read_table(\"./data_1.arr\")\n",
    "random_dataset = arrtab.to_pandas(timestamp_as_object=True)\n"
   ]
  },
  {
   "cell_type": "code",
   "execution_count": 3,
   "id": "f7e09058",
   "metadata": {},
   "outputs": [
    {
     "data": {
      "text/html": [
       "<div>\n",
       "<style scoped>\n",
       "    .dataframe tbody tr th:only-of-type {\n",
       "        vertical-align: middle;\n",
       "    }\n",
       "\n",
       "    .dataframe tbody tr th {\n",
       "        vertical-align: top;\n",
       "    }\n",
       "\n",
       "    .dataframe thead th {\n",
       "        text-align: right;\n",
       "    }\n",
       "</style>\n",
       "<table border=\"1\" class=\"dataframe\">\n",
       "  <thead>\n",
       "    <tr style=\"text-align: right;\">\n",
       "      <th></th>\n",
       "      <th>fail</th>\n",
       "      <th>lotWaferDie</th>\n",
       "      <th>XRel</th>\n",
       "      <th>YRel</th>\n",
       "      <th>XSize</th>\n",
       "      <th>YSize</th>\n",
       "      <th>DefArea</th>\n",
       "      <th>DefSize</th>\n",
       "      <th>dieRow</th>\n",
       "      <th>dieCol</th>\n",
       "      <th>xidx</th>\n",
       "      <th>yidx</th>\n",
       "    </tr>\n",
       "  </thead>\n",
       "  <tbody>\n",
       "    <tr>\n",
       "      <th>0</th>\n",
       "      <td>0</td>\n",
       "      <td>W01-D105_37</td>\n",
       "      <td>1247042</td>\n",
       "      <td>730428</td>\n",
       "      <td>99130</td>\n",
       "      <td>98919</td>\n",
       "      <td>9.805876e+09</td>\n",
       "      <td>198050</td>\n",
       "      <td>105.0</td>\n",
       "      <td>37.0</td>\n",
       "      <td>5.0</td>\n",
       "      <td>-52</td>\n",
       "    </tr>\n",
       "    <tr>\n",
       "      <th>1</th>\n",
       "      <td>0</td>\n",
       "      <td>W01-D12_22</td>\n",
       "      <td>1667562</td>\n",
       "      <td>606900</td>\n",
       "      <td>66087</td>\n",
       "      <td>65946</td>\n",
       "      <td>4.358167e+09</td>\n",
       "      <td>132037</td>\n",
       "      <td>12.0</td>\n",
       "      <td>22.0</td>\n",
       "      <td>-10.0</td>\n",
       "      <td>41</td>\n",
       "    </tr>\n",
       "    <tr>\n",
       "      <th>2</th>\n",
       "      <td>1</td>\n",
       "      <td>W01-D62_28</td>\n",
       "      <td>222355</td>\n",
       "      <td>610062</td>\n",
       "      <td>99130</td>\n",
       "      <td>131892</td>\n",
       "      <td>1.307450e+10</td>\n",
       "      <td>247960</td>\n",
       "      <td>62.0</td>\n",
       "      <td>28.0</td>\n",
       "      <td>-4.0</td>\n",
       "      <td>-9</td>\n",
       "    </tr>\n",
       "    <tr>\n",
       "      <th>3</th>\n",
       "      <td>0</td>\n",
       "      <td>W01-D80_4</td>\n",
       "      <td>1981200</td>\n",
       "      <td>759210</td>\n",
       "      <td>12990</td>\n",
       "      <td>6490</td>\n",
       "      <td>8.431000e+07</td>\n",
       "      <td>6490</td>\n",
       "      <td>80.0</td>\n",
       "      <td>4.0</td>\n",
       "      <td>-28.0</td>\n",
       "      <td>-27</td>\n",
       "    </tr>\n",
       "    <tr>\n",
       "      <th>4</th>\n",
       "      <td>0</td>\n",
       "      <td>W01-D8_25</td>\n",
       "      <td>214360</td>\n",
       "      <td>236200</td>\n",
       "      <td>19490</td>\n",
       "      <td>19470</td>\n",
       "      <td>3.793900e+08</td>\n",
       "      <td>19470</td>\n",
       "      <td>8.0</td>\n",
       "      <td>25.0</td>\n",
       "      <td>-7.0</td>\n",
       "      <td>45</td>\n",
       "    </tr>\n",
       "    <tr>\n",
       "      <th>...</th>\n",
       "      <td>...</td>\n",
       "      <td>...</td>\n",
       "      <td>...</td>\n",
       "      <td>...</td>\n",
       "      <td>...</td>\n",
       "      <td>...</td>\n",
       "      <td>...</td>\n",
       "      <td>...</td>\n",
       "      <td>...</td>\n",
       "      <td>...</td>\n",
       "      <td>...</td>\n",
       "      <td>...</td>\n",
       "    </tr>\n",
       "    <tr>\n",
       "      <th>242393</th>\n",
       "      <td>1</td>\n",
       "      <td>W25-D86_46</td>\n",
       "      <td>2054940</td>\n",
       "      <td>296560</td>\n",
       "      <td>165217</td>\n",
       "      <td>197838</td>\n",
       "      <td>3.268625e+10</td>\n",
       "      <td>362968</td>\n",
       "      <td>86.0</td>\n",
       "      <td>46.0</td>\n",
       "      <td>14.0</td>\n",
       "      <td>-33</td>\n",
       "    </tr>\n",
       "    <tr>\n",
       "      <th>242394</th>\n",
       "      <td>1</td>\n",
       "      <td>W25-D87_15</td>\n",
       "      <td>2137090</td>\n",
       "      <td>51580</td>\n",
       "      <td>12990</td>\n",
       "      <td>6490</td>\n",
       "      <td>8.431000e+07</td>\n",
       "      <td>6490</td>\n",
       "      <td>87.0</td>\n",
       "      <td>15.0</td>\n",
       "      <td>-17.0</td>\n",
       "      <td>-34</td>\n",
       "    </tr>\n",
       "    <tr>\n",
       "      <th>242395</th>\n",
       "      <td>0</td>\n",
       "      <td>W25-D96_21</td>\n",
       "      <td>462610</td>\n",
       "      <td>708200</td>\n",
       "      <td>33043</td>\n",
       "      <td>65946</td>\n",
       "      <td>2.179084e+09</td>\n",
       "      <td>98986</td>\n",
       "      <td>96.0</td>\n",
       "      <td>21.0</td>\n",
       "      <td>-11.0</td>\n",
       "      <td>-43</td>\n",
       "    </tr>\n",
       "    <tr>\n",
       "      <th>242396</th>\n",
       "      <td>0</td>\n",
       "      <td>W25-D99_19</td>\n",
       "      <td>1026344</td>\n",
       "      <td>808760</td>\n",
       "      <td>99130</td>\n",
       "      <td>98919</td>\n",
       "      <td>9.805876e+09</td>\n",
       "      <td>224044</td>\n",
       "      <td>99.0</td>\n",
       "      <td>19.0</td>\n",
       "      <td>-13.0</td>\n",
       "      <td>-46</td>\n",
       "    </tr>\n",
       "    <tr>\n",
       "      <th>242397</th>\n",
       "      <td>0</td>\n",
       "      <td>W25-D9_46</td>\n",
       "      <td>2029344</td>\n",
       "      <td>233828</td>\n",
       "      <td>99130</td>\n",
       "      <td>131892</td>\n",
       "      <td>1.307450e+10</td>\n",
       "      <td>240957</td>\n",
       "      <td>9.0</td>\n",
       "      <td>46.0</td>\n",
       "      <td>14.0</td>\n",
       "      <td>44</td>\n",
       "    </tr>\n",
       "  </tbody>\n",
       "</table>\n",
       "<p>200279 rows × 12 columns</p>\n",
       "</div>"
      ],
      "text/plain": [
       "        fail  lotWaferDie     XRel    YRel   XSize   YSize       DefArea  \\\n",
       "0          0  W01-D105_37  1247042  730428   99130   98919  9.805876e+09   \n",
       "1          0   W01-D12_22  1667562  606900   66087   65946  4.358167e+09   \n",
       "2          1   W01-D62_28   222355  610062   99130  131892  1.307450e+10   \n",
       "3          0    W01-D80_4  1981200  759210   12990    6490  8.431000e+07   \n",
       "4          0    W01-D8_25   214360  236200   19490   19470  3.793900e+08   \n",
       "...      ...          ...      ...     ...     ...     ...           ...   \n",
       "242393     1   W25-D86_46  2054940  296560  165217  197838  3.268625e+10   \n",
       "242394     1   W25-D87_15  2137090   51580   12990    6490  8.431000e+07   \n",
       "242395     0   W25-D96_21   462610  708200   33043   65946  2.179084e+09   \n",
       "242396     0   W25-D99_19  1026344  808760   99130   98919  9.805876e+09   \n",
       "242397     0    W25-D9_46  2029344  233828   99130  131892  1.307450e+10   \n",
       "\n",
       "        DefSize  dieRow  dieCol  xidx  yidx  \n",
       "0        198050   105.0    37.0   5.0   -52  \n",
       "1        132037    12.0    22.0 -10.0    41  \n",
       "2        247960    62.0    28.0  -4.0    -9  \n",
       "3          6490    80.0     4.0 -28.0   -27  \n",
       "4         19470     8.0    25.0  -7.0    45  \n",
       "...         ...     ...     ...   ...   ...  \n",
       "242393   362968    86.0    46.0  14.0   -33  \n",
       "242394     6490    87.0    15.0 -17.0   -34  \n",
       "242395    98986    96.0    21.0 -11.0   -43  \n",
       "242396   224044    99.0    19.0 -13.0   -46  \n",
       "242397   240957     9.0    46.0  14.0    44  \n",
       "\n",
       "[200279 rows x 12 columns]"
      ]
     },
     "execution_count": 3,
     "metadata": {},
     "output_type": "execute_result"
    }
   ],
   "source": [
    "random_dataset"
   ]
  },
  {
   "cell_type": "code",
   "execution_count": 4,
   "id": "24fceb65",
   "metadata": {},
   "outputs": [
    {
     "data": {
      "text/plain": [
       "fail           200279\n",
       "lotWaferDie    200279\n",
       "XRel           200279\n",
       "YRel           200279\n",
       "XSize          200279\n",
       "YSize          200279\n",
       "DefArea        200279\n",
       "DefSize        200279\n",
       "dieRow         200279\n",
       "dieCol         200279\n",
       "xidx           200279\n",
       "yidx           200279\n",
       "dtype: int64"
      ]
     },
     "execution_count": 4,
     "metadata": {},
     "output_type": "execute_result"
    }
   ],
   "source": [
    "random_dataset.notnull().sum() #there are no null values"
   ]
  },
  {
   "cell_type": "code",
   "execution_count": 5,
   "id": "be41fa4e",
   "metadata": {},
   "outputs": [],
   "source": [
    "random_dataset.rename(columns={'fail':'label'}, inplace=True) #rename the fail as label because we are using clasification"
   ]
  },
  {
   "cell_type": "code",
   "execution_count": 6,
   "id": "643621ab",
   "metadata": {},
   "outputs": [],
   "source": [
    "y=random_dataset['label']"
   ]
  },
  {
   "cell_type": "code",
   "execution_count": 7,
   "id": "1e95b28b",
   "metadata": {},
   "outputs": [
    {
     "data": {
      "text/plain": [
       "0         0\n",
       "1         0\n",
       "2         1\n",
       "3         0\n",
       "4         0\n",
       "         ..\n",
       "242393    1\n",
       "242394    1\n",
       "242395    0\n",
       "242396    0\n",
       "242397    0\n",
       "Name: label, Length: 200279, dtype: int32"
      ]
     },
     "execution_count": 7,
     "metadata": {},
     "output_type": "execute_result"
    }
   ],
   "source": [
    "y"
   ]
  },
  {
   "cell_type": "code",
   "execution_count": 8,
   "id": "27c53a85",
   "metadata": {},
   "outputs": [],
   "source": [
    "feature_cols = [col for col in random_dataset.columns if col != 'label']"
   ]
  },
  {
   "cell_type": "code",
   "execution_count": 9,
   "id": "698358e3",
   "metadata": {},
   "outputs": [
    {
     "data": {
      "text/plain": [
       "label            int32\n",
       "lotWaferDie     object\n",
       "XRel             int32\n",
       "YRel             int32\n",
       "XSize            int32\n",
       "YSize            int32\n",
       "DefArea        float64\n",
       "DefSize          int32\n",
       "dieRow         float64\n",
       "dieCol         float64\n",
       "xidx           float64\n",
       "yidx             int32\n",
       "dtype: object"
      ]
     },
     "execution_count": 9,
     "metadata": {},
     "output_type": "execute_result"
    }
   ],
   "source": [
    "random_dataset.dtypes"
   ]
  },
  {
   "cell_type": "code",
   "execution_count": 10,
   "id": "6c91e512",
   "metadata": {},
   "outputs": [
    {
     "data": {
      "text/html": [
       "<div>\n",
       "<style scoped>\n",
       "    .dataframe tbody tr th:only-of-type {\n",
       "        vertical-align: middle;\n",
       "    }\n",
       "\n",
       "    .dataframe tbody tr th {\n",
       "        vertical-align: top;\n",
       "    }\n",
       "\n",
       "    .dataframe thead th {\n",
       "        text-align: right;\n",
       "    }\n",
       "</style>\n",
       "<table border=\"1\" class=\"dataframe\">\n",
       "  <thead>\n",
       "    <tr style=\"text-align: right;\">\n",
       "      <th></th>\n",
       "      <th>lotWaferDie</th>\n",
       "    </tr>\n",
       "  </thead>\n",
       "  <tbody>\n",
       "    <tr>\n",
       "      <th>0</th>\n",
       "      <td>W01-D105_37</td>\n",
       "    </tr>\n",
       "    <tr>\n",
       "      <th>1</th>\n",
       "      <td>W01-D12_22</td>\n",
       "    </tr>\n",
       "    <tr>\n",
       "      <th>2</th>\n",
       "      <td>W01-D62_28</td>\n",
       "    </tr>\n",
       "    <tr>\n",
       "      <th>3</th>\n",
       "      <td>W01-D80_4</td>\n",
       "    </tr>\n",
       "    <tr>\n",
       "      <th>4</th>\n",
       "      <td>W01-D8_25</td>\n",
       "    </tr>\n",
       "    <tr>\n",
       "      <th>...</th>\n",
       "      <td>...</td>\n",
       "    </tr>\n",
       "    <tr>\n",
       "      <th>242393</th>\n",
       "      <td>W25-D86_46</td>\n",
       "    </tr>\n",
       "    <tr>\n",
       "      <th>242394</th>\n",
       "      <td>W25-D87_15</td>\n",
       "    </tr>\n",
       "    <tr>\n",
       "      <th>242395</th>\n",
       "      <td>W25-D96_21</td>\n",
       "    </tr>\n",
       "    <tr>\n",
       "      <th>242396</th>\n",
       "      <td>W25-D99_19</td>\n",
       "    </tr>\n",
       "    <tr>\n",
       "      <th>242397</th>\n",
       "      <td>W25-D9_46</td>\n",
       "    </tr>\n",
       "  </tbody>\n",
       "</table>\n",
       "<p>200279 rows × 1 columns</p>\n",
       "</div>"
      ],
      "text/plain": [
       "        lotWaferDie\n",
       "0       W01-D105_37\n",
       "1        W01-D12_22\n",
       "2        W01-D62_28\n",
       "3         W01-D80_4\n",
       "4         W01-D8_25\n",
       "...             ...\n",
       "242393   W25-D86_46\n",
       "242394   W25-D87_15\n",
       "242395   W25-D96_21\n",
       "242396   W25-D99_19\n",
       "242397    W25-D9_46\n",
       "\n",
       "[200279 rows x 1 columns]"
      ]
     },
     "execution_count": 10,
     "metadata": {},
     "output_type": "execute_result"
    }
   ],
   "source": [
    "obj_df = random_dataset.select_dtypes(include=['object']).copy()\n",
    "obj_df"
   ]
  },
  {
   "cell_type": "code",
   "execution_count": 11,
   "id": "e1101554",
   "metadata": {},
   "outputs": [],
   "source": [
    "encoder = OrdinalEncoder()\n",
    "random_dataset['lotWaferDie'] = encoder.fit_transform(random_dataset[['lotWaferDie']])\n"
   ]
  },
  {
   "cell_type": "code",
   "execution_count": 12,
   "id": "b7bd2355",
   "metadata": {},
   "outputs": [],
   "source": [
    "X=random_dataset[feature_cols]"
   ]
  },
  {
   "cell_type": "code",
   "execution_count": 13,
   "id": "228d360c",
   "metadata": {},
   "outputs": [],
   "source": [
    "X_train, X_test, y_train, y_test = train_test_split(X,y)"
   ]
  },
  {
   "cell_type": "code",
   "execution_count": 14,
   "id": "f1dc627a",
   "metadata": {},
   "outputs": [],
   "source": [
    "clf = DecisionTreeClassifier()\n"
   ]
  },
  {
   "cell_type": "code",
   "execution_count": 15,
   "id": "e88544d9",
   "metadata": {},
   "outputs": [],
   "source": [
    "clf = clf.fit(X_train, y_train)"
   ]
  },
  {
   "cell_type": "code",
   "execution_count": 16,
   "id": "276831e4",
   "metadata": {},
   "outputs": [],
   "source": [
    "y_pred_train = clf.predict(X_train)"
   ]
  },
  {
   "cell_type": "code",
   "execution_count": 17,
   "id": "e318bf95",
   "metadata": {},
   "outputs": [
    {
     "name": "stdout",
     "output_type": "stream",
     "text": [
      "Train accurcy: 0.997689885426306\n"
     ]
    }
   ],
   "source": [
    "print('Train accurcy:', metrics.accuracy_score(y_train,y_pred_train))"
   ]
  },
  {
   "cell_type": "code",
   "execution_count": 18,
   "id": "15a810e0",
   "metadata": {},
   "outputs": [],
   "source": [
    "y_pred = clf.predict(X_test)"
   ]
  },
  {
   "cell_type": "code",
   "execution_count": 19,
   "id": "86a60c0c",
   "metadata": {},
   "outputs": [
    {
     "name": "stdout",
     "output_type": "stream",
     "text": [
      "Test Accuracy:  0.87\n"
     ]
    }
   ],
   "source": [
    "print(f'Test Accuracy:  {np.round(metrics.accuracy_score(y_test, y_pred),2)}')"
   ]
  },
  {
   "cell_type": "code",
   "execution_count": 20,
   "id": "e9b598e0",
   "metadata": {},
   "outputs": [],
   "source": [
    "from sklearn.metrics import f1_score"
   ]
  },
  {
   "cell_type": "code",
   "execution_count": 21,
   "id": "fb0c7039",
   "metadata": {
    "scrolled": true
   },
   "outputs": [],
   "source": [
    "f1 = f1_score(y_test, y_pred)"
   ]
  },
  {
   "cell_type": "code",
   "execution_count": 22,
   "id": "593e47f5",
   "metadata": {},
   "outputs": [
    {
     "data": {
      "text/plain": [
       "0.5519771708112515"
      ]
     },
     "execution_count": 22,
     "metadata": {},
     "output_type": "execute_result"
    }
   ],
   "source": [
    "f1"
   ]
  },
  {
   "cell_type": "code",
   "execution_count": 23,
   "id": "212d1c8a",
   "metadata": {},
   "outputs": [
    {
     "name": "stdout",
     "output_type": "stream",
     "text": [
      "y_test distribution: [42814  7256]\n",
      "y_pred distribution: [42608  7462]\n"
     ]
    }
   ],
   "source": [
    "print(f\"y_test distribution: {np.bincount(y_test)}\")\n",
    "print(f\"y_pred distribution: {np.bincount(y_pred)}\")"
   ]
  },
  {
   "cell_type": "code",
   "execution_count": 24,
   "id": "b8d36a7e",
   "metadata": {},
   "outputs": [],
   "source": [
    "arrtab_test = pf.read_table(\"./data_1_test_no_target.arr\")\n",
    "test_dataset = arrtab_test.to_pandas(timestamp_as_object=True)"
   ]
  },
  {
   "cell_type": "code",
   "execution_count": 25,
   "id": "751c0acc",
   "metadata": {},
   "outputs": [],
   "source": [
    "encoder = OrdinalEncoder()\n",
    "test_dataset['lotWaferDie'] = encoder.fit_transform(test_dataset[['lotWaferDie']])"
   ]
  },
  {
   "cell_type": "code",
   "execution_count": 26,
   "id": "2001b29e",
   "metadata": {},
   "outputs": [],
   "source": [
    "test_dataset = test_dataset[X.columns]"
   ]
  },
  {
   "cell_type": "code",
   "execution_count": 27,
   "id": "06503501",
   "metadata": {},
   "outputs": [],
   "source": [
    "y_pred_test = clf.predict(test_dataset)"
   ]
  },
  {
   "cell_type": "code",
   "execution_count": 28,
   "id": "aba19e8c",
   "metadata": {},
   "outputs": [
    {
     "name": "stdout",
     "output_type": "stream",
     "text": [
      "Predictions saved to test_predictions.csv\n"
     ]
    }
   ],
   "source": [
    "predictions_df = pd.DataFrame({'Predicted_Label': y_pred_test})\n",
    "\n",
    "# Save to CSV\n",
    "predictions_df.to_csv(\"predictions.csv\", index=False)\n",
    "\n",
    "print(\"Predictions saved to test_predictions.csv\")"
   ]
  },
  {
   "cell_type": "code",
   "execution_count": 29,
   "id": "8c29537c",
   "metadata": {},
   "outputs": [
    {
     "data": {
      "text/plain": [
       "array([1, 1, 0, ..., 0, 1, 1])"
      ]
     },
     "execution_count": 29,
     "metadata": {},
     "output_type": "execute_result"
    }
   ],
   "source": [
    "y_pred_test"
   ]
  }
 ],
 "metadata": {
  "kernelspec": {
   "display_name": "Python 3 (ipykernel)",
   "language": "python",
   "name": "python3"
  },
  "language_info": {
   "codemirror_mode": {
    "name": "ipython",
    "version": 3
   },
   "file_extension": ".py",
   "mimetype": "text/x-python",
   "name": "python",
   "nbconvert_exporter": "python",
   "pygments_lexer": "ipython3",
   "version": "3.11.5"
  }
 },
 "nbformat": 4,
 "nbformat_minor": 5
}
